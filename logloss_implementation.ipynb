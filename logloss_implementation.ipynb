{
  "nbformat": 4,
  "nbformat_minor": 0,
  "metadata": {
    "colab": {
      "name": "logloss implementation.ipynb",
      "provenance": []
    },
    "kernelspec": {
      "name": "python3",
      "display_name": "Python 3"
    },
    "language_info": {
      "name": "python"
    }
  },
  "cells": [
    {
      "cell_type": "code",
      "metadata": {
        "colab": {
          "base_uri": "https://localhost:8080/"
        },
        "id": "WPYML3q6F9gl",
        "outputId": "47806b8a-b4f9-4ef1-f670-654ee61aa88b"
      },
      "source": [
        "from math import log\n",
        "def compute_log_loss(matrix):\n",
        "    log_loss = 0\n",
        "    for row in matrix:     # Iterating over the whole matrix\n",
        "        log_loss += (row[0] * log(row[1], 10) + ((1 - row[0]) * log(1 - row[1], 10)))  # Numerator of the log loss\n",
        "\n",
        "    loss = -1 * log_loss / len(matrix)   # Numerator / len(matrix) i.e 8\n",
        "    return loss\n",
        "\n",
        "A = [[1, 0.5], \n",
        "     [0, 0.6],   \n",
        "     [0, 0.4], \n",
        "     [0, 0.3], \n",
        "     [0, 0.6], \n",
        "     [1, 0.1],\n",
        "     [1, 0.9],\n",
        "     [1, 0.8]]\n",
        "print(compute_log_loss(A))\n",
        "loss = compute_log_loss(A)"
      ],
      "execution_count": 2,
      "outputs": [
        {
          "output_type": "stream",
          "text": [
            "0.32704102827236087\n"
          ],
          "name": "stdout"
        }
      ]
    },
    {
      "cell_type": "code",
      "metadata": {
        "id": "0Z2qOqhrGUWI"
      },
      "source": [
        ""
      ],
      "execution_count": null,
      "outputs": []
    }
  ]
}